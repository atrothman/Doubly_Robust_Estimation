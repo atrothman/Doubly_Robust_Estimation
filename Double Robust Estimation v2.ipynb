{
 "cells": [
  {
   "cell_type": "code",
   "execution_count": 1,
   "metadata": {},
   "outputs": [],
   "source": [
    "######################\n",
    "## import libraries ##\n",
    "######################\n",
    "import pandas as pd\n",
    "import numpy as np    \n",
    "np.random.seed(10815657)\n",
    "import statsmodels.api as sm\n",
    "import statsmodels.formula.api as smf"
   ]
  },
  {
   "cell_type": "code",
   "execution_count": 2,
   "metadata": {},
   "outputs": [],
   "source": [
    "#########################################\n",
    "## generate simulated dataset function ##\n",
    "#########################################\n",
    "def simulate_dataset(n=100000):\n",
    "    A_split = 0.4\n",
    "    C1_split = 0.2\n",
    "    C2_split = 0.65\n",
    "\n",
    "    df_A1 = pd.DataFrame()\n",
    "    df_A1['A'] = np.ones(int(n*A_split))\n",
    "    df_A1['C1'] = np.random.uniform(0, 1, int(n*A_split))\n",
    "    df_A1['C2'] = np.random.uniform(0, 1, int(n*A_split))\n",
    "    df_A1.loc[df_A1['C1']<C1_split, 'C1'] = 0\n",
    "    df_A1.loc[df_A1['C1']>=C1_split, 'C1'] = 1\n",
    "    df_A1.loc[df_A1['C2']<C2_split, 'C2'] = 0\n",
    "    df_A1.loc[df_A1['C2']>=C2_split, 'C2'] = 1\n",
    "\n",
    "    df_A0 = pd.DataFrame()\n",
    "    df_A0['A'] = np.zeros(int(n*(1-A_split)))\n",
    "    df_A0['C1'] = np.random.uniform(0, 1, int(n*(1-A_split)))\n",
    "    df_A0['C2'] = np.random.uniform(0, 1, int(n*(1-A_split)))\n",
    "    df_A0.loc[df_A0['C1']<(1-C1_split), 'C1'] = 0\n",
    "    df_A0.loc[df_A0['C1']>=(1-C1_split), 'C1'] = 1\n",
    "    df_A0.loc[df_A0['C2']<(1-C2_split), 'C2'] = 0\n",
    "    df_A0.loc[df_A0['C2']>=(1-C2_split), 'C2'] = 1\n",
    "\n",
    "    df = pd.concat([df_A0, df_A1], axis=0).reset_index(drop=True)\n",
    "    df['error'] = np.random.normal(0, 0.25, df.shape[0]) \n",
    "    del df_A1, df_A0\n",
    "\n",
    "    B0 = -0.23\n",
    "    B1 = 1.23\n",
    "    B2 = 1.56\n",
    "    B3 = 0.87\n",
    "    df['Y'] = B0 + (B1*df['A']) + (B2*df['C1']) + (B3*df['C2']) + df['error']\n",
    "    \n",
    "    print(\"The true outcome model is:\")\n",
    "    print('E[Y|A,C1,C2] = ' + str(B0) + ' + ' + str(B1) + '*A + ' + str(B2) + '*C1 + ' + str(B3) + '*C2')\n",
    "    \n",
    "    return(df)"
   ]
  },
  {
   "cell_type": "code",
   "execution_count": 3,
   "metadata": {},
   "outputs": [
    {
     "name": "stdout",
     "output_type": "stream",
     "text": [
      "The true outcome model is:\n",
      "E[Y|A,C1,C2] = -0.23 + 1.23*A + 1.56*C1 + 0.87*C2\n"
     ]
    }
   ],
   "source": [
    "## get simulated dataset\n",
    "df_original = simulate_dataset(n=100000)"
   ]
  },
  {
   "cell_type": "code",
   "execution_count": 4,
   "metadata": {},
   "outputs": [],
   "source": [
    "###############################################\n",
    "## fit and return standardized outcome model ##\n",
    "###############################################\n",
    "def fit_standardized_outcome_model(df, model_string, fit_bounds=True, print_result=True):\n",
    "    df_original = df.copy()\n",
    "    df_A0 = df_original.copy()\n",
    "    df_A1 = df_original.copy()\n",
    "    df_A0['A'] = 0\n",
    "    df_A1['A'] = 1\n",
    "    outcome_model = smf.ols(formula=model_string, data=df).fit()\n",
    "    df_A0['Y_fit'] = outcome_model.predict(df_A0)\n",
    "    df_A1['Y_fit'] = outcome_model.predict(df_A1)\n",
    "    mean_unexposed = df_A0['Y_fit'].mean()\n",
    "    mean_exposed = df_A1['Y_fit'].mean()\n",
    "    effect_difference = mean_exposed - mean_unexposed\n",
    "        \n",
    "    if(fit_bounds):\n",
    "        effect_difference_list = []\n",
    "        for i in range(0, 100):\n",
    "            df_sub = df_original.sample(n=df_original.shape[0], replace=True)\n",
    "            df_A0_sub = df_sub.copy()\n",
    "            df_A1_sub = df_sub.copy()\n",
    "            df_A0_sub['A'] = 0\n",
    "            df_A1_sub['A'] = 1\n",
    "            OM_sub = smf.ols(formula=model_string, data=df_sub).fit()\n",
    "            df_A0_sub['Y_fit'] = OM_sub.predict(df_A0_sub)\n",
    "            df_A1_sub['Y_fit'] = OM_sub.predict(df_A1_sub)\n",
    "            mean_unexposed_sub = df_A0_sub['Y_fit'].mean()\n",
    "            mean_exposed_sub = df_A1_sub['Y_fit'].mean()\n",
    "            effect_difference_sub = mean_exposed_sub - mean_unexposed_sub\n",
    "            effect_difference_list.append(effect_difference_sub)\n",
    "            del df_sub, df_A0_sub, df_A1_sub, OM_sub, mean_unexposed_sub, mean_exposed_sub, effect_difference_sub\n",
    "   \n",
    "        variance = np.var(effect_difference_list)\n",
    "        standard_error = np.sqrt(variance)\n",
    "        bound_size = 1.96*standard_error\n",
    "        lower_bound = effect_difference - bound_size\n",
    "        upper_bound = effect_difference + bound_size\n",
    "    \n",
    "    if(print_result):\n",
    "        print(outcome_model.summary())\n",
    "        print(\"The standardized mean in those with A=0 is: \" + str(mean_unexposed))\n",
    "        print(\"The standardized mean in those with A=1 is: \" + str(mean_exposed))\n",
    "        if(fit_bounds):\n",
    "            print(\"The standardized effect difference is \" + str(effect_difference) + \" with 95% CI (\" + str(lower_bound) + ' , ' + str(upper_bound) + ')')\n",
    "        else:\n",
    "            print(\"The standardized effect difference is \" + str(effect_difference))\n",
    "    \n",
    "    return(df, outcome_model)"
   ]
  },
  {
   "cell_type": "code",
   "execution_count": 5,
   "metadata": {},
   "outputs": [
    {
     "name": "stdout",
     "output_type": "stream",
     "text": [
      "                            OLS Regression Results                            \n",
      "==============================================================================\n",
      "Dep. Variable:                      Y   R-squared:                       0.958\n",
      "Model:                            OLS   Adj. R-squared:                  0.958\n",
      "Method:                 Least Squares   F-statistic:                 7.620e+05\n",
      "Date:                Thu, 03 Dec 2020   Prob (F-statistic):               0.00\n",
      "Time:                        11:33:19   Log-Likelihood:                -3353.7\n",
      "No. Observations:              100000   AIC:                             6715.\n",
      "Df Residuals:                   99996   BIC:                             6753.\n",
      "Df Model:                           3                                         \n",
      "Covariance Type:            nonrobust                                         \n",
      "==============================================================================\n",
      "                 coef    std err          t      P>|t|      [0.025      0.975]\n",
      "------------------------------------------------------------------------------\n",
      "Intercept     -0.2272      0.002   -147.829      0.000      -0.230      -0.224\n",
      "A              1.2280      0.002    593.422      0.000       1.224       1.232\n",
      "C1             1.5588      0.002    786.222      0.000       1.555       1.563\n",
      "C2             0.8679      0.002    523.136      0.000       0.865       0.871\n",
      "==============================================================================\n",
      "Omnibus:                        0.738   Durbin-Watson:                   1.992\n",
      "Prob(Omnibus):                  0.691   Jarque-Bera (JB):                0.748\n",
      "Skew:                           0.000   Prob(JB):                        0.688\n",
      "Kurtosis:                       2.987   Cond. No.                         4.31\n",
      "==============================================================================\n",
      "\n",
      "Warnings:\n",
      "[1] Standard Errors assume that the covariance matrix of the errors is correctly specified.\n",
      "The standardized mean in those with A=0 is: 0.9177235440004516\n",
      "The standardized mean in those with A=1 is: 2.1456780075228004\n",
      "The standardized effect difference is 1.2279544635223487 with 95% CI (1.2241617612334224 , 1.231747165811275)\n"
     ]
    }
   ],
   "source": [
    "## fit and return correctly specified outcome model\n",
    "df_OM_CS, OM_CS = fit_standardized_outcome_model(df_original.copy(), 'Y ~ A + C1 + C2')"
   ]
  },
  {
   "cell_type": "code",
   "execution_count": 6,
   "metadata": {},
   "outputs": [
    {
     "name": "stdout",
     "output_type": "stream",
     "text": [
      "                            OLS Regression Results                            \n",
      "==============================================================================\n",
      "Dep. Variable:                      Y   R-squared:                       0.699\n",
      "Model:                            OLS   Adj. R-squared:                  0.699\n",
      "Method:                 Least Squares   F-statistic:                 1.161e+05\n",
      "Date:                Thu, 03 Dec 2020   Prob (F-statistic):               0.00\n",
      "Time:                        11:34:46   Log-Likelihood:            -1.0193e+05\n",
      "No. Observations:              100000   AIC:                         2.039e+05\n",
      "Df Residuals:                   99997   BIC:                         2.039e+05\n",
      "Df Model:                           2                                         \n",
      "Covariance Type:            nonrobust                                         \n",
      "==============================================================================\n",
      "                 coef    std err          t      P>|t|      [0.025      0.975]\n",
      "------------------------------------------------------------------------------\n",
      "Intercept      0.0806      0.004     20.230      0.000       0.073       0.088\n",
      "A              2.1668      0.005    478.465      0.000       2.158       2.176\n",
      "C2             0.8694      0.004    195.553      0.000       0.861       0.878\n",
      "==============================================================================\n",
      "Omnibus:                     1079.037   Durbin-Watson:                   2.008\n",
      "Prob(Omnibus):                  0.000   Jarque-Bera (JB):             1139.857\n",
      "Skew:                           0.238   Prob(JB):                    3.04e-248\n",
      "Kurtosis:                       3.216   Cond. No.                         3.60\n",
      "==============================================================================\n",
      "\n",
      "Warnings:\n",
      "[1] Standard Errors assume that the covariance matrix of the errors is correctly specified.\n",
      "The standardized mean in those with A=0 is: 0.5421668444072286\n",
      "The standardized mean in those with A=1 is: 2.709013056912637\n",
      "The standardized effect difference is 2.1668462125054084 with 95% CI (2.1589450607658582 , 2.1747473642449586)\n"
     ]
    }
   ],
   "source": [
    "## fit and return incorrectly specified outcome model\n",
    "df_OM_IS, OM_IS = fit_standardized_outcome_model(df_original.copy(), 'Y ~ A + C2')"
   ]
  },
  {
   "cell_type": "code",
   "execution_count": 7,
   "metadata": {},
   "outputs": [],
   "source": [
    "##############################################\n",
    "## fit and return Marginal Strucutral Model ##\n",
    "##############################################\n",
    "def fit_MSM_model(df, model_string, print_result=True):\n",
    "    PS_model = smf.glm(model_string, data=df, family=sm.families.Binomial()).fit()\n",
    "    df['Propensity_Score'] = PS_model.predict(df)\n",
    "    Marg_Prob_Intervention = df.loc[df['A']==1, :].reset_index(drop=True).shape[0] / df.shape[0]\n",
    "    df['Unstabalized_Weights'] = None\n",
    "    df.loc[df['A']==1, 'Unstabalized_Weights'] = 1 / (df.loc[df['A']==1, 'Propensity_Score'])\n",
    "    df.loc[df['A']==0, 'Unstabalized_Weights'] = 1 / (1 - df.loc[df['A']==0, 'Propensity_Score'])\n",
    "    df['Stabalized_Weights'] = None\n",
    "    df.loc[df['A']==1, 'Stabalized_Weights'] = (Marg_Prob_Intervention) / (df.loc[df['A']==1, 'Propensity_Score'])\n",
    "    df.loc[df['A']==0, 'Stabalized_Weights'] = (1 - Marg_Prob_Intervention) / (1 - df.loc[df['A']==0, 'Propensity_Score'])\n",
    "    MSM = smf.wls('Y ~ A', data=df, weights=np.array(df['Stabalized_Weights'], dtype=np.float64)).fit()\n",
    "    \n",
    "    mean_unexposed = MSM.params[0]\n",
    "    mean_exposed = MSM.params[0] + MSM.params[1]\n",
    "    effect_difference = mean_exposed - mean_unexposed\n",
    "    lower_bound = MSM.conf_int()[0][1]\n",
    "    upper_bound = MSM.conf_int()[1][1]\n",
    "\n",
    "    if(print_result):\n",
    "        print(MSM.summary())\n",
    "        print(\"The MSM mean in those with A=0 is: \" + str(mean_unexposed))\n",
    "        print(\"The MSM mean in those with A=1 is: \" + str(mean_exposed))\n",
    "        print(\"The MSM effect difference is \" + str(effect_difference) + \" with 95% CI (\" + str(lower_bound) + ' , ' + str(upper_bound) + ')')\n",
    "    return(df, MSM)"
   ]
  },
  {
   "cell_type": "code",
   "execution_count": 8,
   "metadata": {},
   "outputs": [
    {
     "name": "stdout",
     "output_type": "stream",
     "text": [
      "                            WLS Regression Results                            \n",
      "==============================================================================\n",
      "Dep. Variable:                      Y   R-squared:                       0.331\n",
      "Model:                            WLS   Adj. R-squared:                  0.331\n",
      "Method:                 Least Squares   F-statistic:                 4.949e+04\n",
      "Date:                Thu, 03 Dec 2020   Prob (F-statistic):               0.00\n",
      "Time:                        11:34:56   Log-Likelihood:            -1.3710e+05\n",
      "No. Observations:              100000   AIC:                         2.742e+05\n",
      "Df Residuals:                   99998   BIC:                         2.742e+05\n",
      "Df Model:                           1                                         \n",
      "Covariance Type:            nonrobust                                         \n",
      "==============================================================================\n",
      "                 coef    std err          t      P>|t|      [0.025      0.975]\n",
      "------------------------------------------------------------------------------\n",
      "Intercept      0.9175      0.003    262.333      0.000       0.911       0.924\n",
      "A              1.2276      0.006    222.457      0.000       1.217       1.238\n",
      "==============================================================================\n",
      "Omnibus:                     1475.755   Durbin-Watson:                   1.923\n",
      "Prob(Omnibus):                  0.000   Jarque-Bera (JB):             1092.887\n",
      "Skew:                           0.161   Prob(JB):                    4.81e-238\n",
      "Kurtosis:                       2.602   Cond. No.                         2.45\n",
      "==============================================================================\n",
      "\n",
      "Warnings:\n",
      "[1] Standard Errors assume that the covariance matrix of the errors is correctly specified.\n",
      "The MSM mean in those with A=0 is: 0.9175450025691748\n",
      "The MSM mean in those with A=1 is: 2.1451479142108623\n",
      "The MSM effect difference is 1.2276029116416876 with 95% CI (1.2167869624824021 , 1.238418860800973)\n"
     ]
    }
   ],
   "source": [
    "## fit and return correctly specified Marginal Structural Model\n",
    "df_MSM_CS, MSM_CS = fit_MSM_model(df_original.copy(), 'A ~ C1 + C2')"
   ]
  },
  {
   "cell_type": "code",
   "execution_count": 9,
   "metadata": {},
   "outputs": [
    {
     "name": "stdout",
     "output_type": "stream",
     "text": [
      "                            WLS Regression Results                            \n",
      "==============================================================================\n",
      "Dep. Variable:                      Y   R-squared:                       0.638\n",
      "Model:                            WLS   Adj. R-squared:                  0.638\n",
      "Method:                 Least Squares   F-statistic:                 1.764e+05\n",
      "Date:                Thu, 03 Dec 2020   Prob (F-statistic):               0.00\n",
      "Time:                        11:35:02   Log-Likelihood:            -1.2161e+05\n",
      "No. Observations:              100000   AIC:                         2.432e+05\n",
      "Df Residuals:                   99998   BIC:                         2.432e+05\n",
      "Df Model:                           1                                         \n",
      "Covariance Type:            nonrobust                                         \n",
      "==============================================================================\n",
      "                 coef    std err          t      P>|t|      [0.025      0.975]\n",
      "------------------------------------------------------------------------------\n",
      "Intercept      0.5411      0.003    165.952      0.000       0.535       0.548\n",
      "A              2.1656      0.005    420.024      0.000       2.155       2.176\n",
      "==============================================================================\n",
      "Omnibus:                      680.071   Durbin-Watson:                   1.993\n",
      "Prob(Omnibus):                  0.000   Jarque-Bera (JB):              561.214\n",
      "Skew:                           0.118   Prob(JB):                    1.36e-122\n",
      "Kurtosis:                       2.719   Cond. No.                         2.45\n",
      "==============================================================================\n",
      "\n",
      "Warnings:\n",
      "[1] Standard Errors assume that the covariance matrix of the errors is correctly specified.\n",
      "The MSM mean in those with A=0 is: 0.5411409851649343\n",
      "The MSM mean in those with A=1 is: 2.7067108658811616\n",
      "The MSM effect difference is 2.1655698807162276 with 95% CI (2.1554645212371235 , 2.1756752401953308)\n"
     ]
    }
   ],
   "source": [
    "## fit and return incorrectly specified Marginal Structural Model\n",
    "df_MSM_IS, MSM_IS = fit_MSM_model(df_original.copy(), 'A ~ C2')"
   ]
  },
  {
   "cell_type": "code",
   "execution_count": 10,
   "metadata": {},
   "outputs": [],
   "source": [
    "############################################\n",
    "## fit and return Doubly Robust Estimator ##\n",
    "############################################\n",
    "def fit_Doubly_Robust_Estimator(df, df_MSM, outcome_model, specification_type, fit_bounds=False):\n",
    "    df_A0 = df.copy()\n",
    "    df_A0['A'] = 0\n",
    "    df_A0['Y_fit'] = outcome_model.predict(df_A0)\n",
    "    df_A1 = df.copy()\n",
    "    df_A1['A'] = 1\n",
    "    df_A1['Y_fit'] = outcome_model.predict(df_A1)\n",
    "    \n",
    "    exposed = (1/df.shape[0])*((df['A']*((df_A1['Y']-df_A1['Y_fit']) / (df_MSM['Propensity_Score']))) + df_A1['Y_fit']).sum()\n",
    "    unexposed = (1/df.shape[0])*(((1-df['A'])*((df_A0['Y']-df_A0['Y_fit']) / (1-df_MSM['Propensity_Score']))) + df_A0['Y_fit']).sum()\n",
    "    \n",
    "    DR_Causal_Effect = exposed - unexposed\n",
    "    \n",
    "    if(fit_bounds):\n",
    "        lower_bound, upper_bound = estimate_DRE_CI(df.copy(), DR_Causal_Effect, specification_type)\n",
    "        print('The Doubly Robust Estimate for the Causal Effect of A on Y is: ' + str(DR_Causal_Effect) + \" with 95% CI (\" + str(lower_bound) + ' , ' + str(upper_bound) + ')')\n",
    "    return(DR_Causal_Effect)\n",
    "\n",
    "##############################################################\n",
    "## get standard error estimates for Doubly Robust Estimator ##\n",
    "##############################################################\n",
    "def estimate_DRE_CI(df_original, point_estimate, specification_type):\n",
    "    DRE_list=[]\n",
    "    \n",
    "    for i in range(0,100):\n",
    "        df = df_original.sample(n=df_original.shape[0], replace=True)\n",
    "        \n",
    "        if(specification_type=='OM & MSM correctly specified'):\n",
    "            df_OM, OM = fit_standardized_outcome_model(df.copy(), 'Y ~ A + C1 + C2', fit_bounds=False, print_result=False)\n",
    "            df_MSM, MSM = fit_MSM_model(df.copy(), 'A ~ C1 + C2', print_result=False)\n",
    "        if(specification_type=='OM incorrectly specified, MSM correctly specified'):\n",
    "            df_OM, OM = fit_standardized_outcome_model(df.copy(), 'Y ~ A + C2', fit_bounds=False, print_result=False)\n",
    "            df_MSM, MSM = fit_MSM_model(df.copy(), 'A ~ C1 + C2', print_result=False)\n",
    "        if(specification_type=='OM correctly specified, MSM incorrectly specified'):\n",
    "            df_OM, OM = fit_standardized_outcome_model(df.copy(), 'Y ~ A + C1 + C2', fit_bounds=False, print_result=False)\n",
    "            df_MSM, MSM = fit_MSM_model(df.copy(), 'A ~ C2', print_result=False)\n",
    "        if(specification_type=='OM & MSM incorrectly specified'):\n",
    "            df_OM, OM = fit_standardized_outcome_model(df.copy(), 'Y ~ A + C2', fit_bounds=False, print_result=False)\n",
    "            df_MSM, MSM = fit_MSM_model(df.copy(), 'A ~ C2', print_result=False)\n",
    "        \n",
    "        DRE = fit_Doubly_Robust_Estimator(df.copy(), df_MSM, OM, specification_type, fit_bounds=False)\n",
    "        DRE_list.append(DRE)\n",
    "        \n",
    "        del df, df_OM, OM, df_MSM, MSM, DRE\n",
    "    \n",
    "    variance = np.var(DRE_list)\n",
    "    standard_error = np.sqrt(variance)\n",
    "    bound_size = 1.96*standard_error\n",
    "    lower_bound = point_estimate - bound_size\n",
    "    upper_bound = point_estimate + bound_size\n",
    "    \n",
    "    #print('The 95% CI is: (' + str(lower_bound) + ' , ' + str(upper_bound) + ')')\n",
    "        \n",
    "    return(lower_bound, upper_bound)  "
   ]
  },
  {
   "cell_type": "code",
   "execution_count": 11,
   "metadata": {},
   "outputs": [
    {
     "name": "stdout",
     "output_type": "stream",
     "text": [
      "The Doubly Robust Estimate for the Causal Effect of A on Y is: 1.2273660077867443 with 95% CI (1.2227483264361219 , 1.2319836891373668)\n"
     ]
    }
   ],
   "source": [
    "## Doubly Robust Estimator, with both the Standardized Outcome Model & Marginal Structural Model correctly specified\n",
    "DRE_CS_point_estimate = fit_Doubly_Robust_Estimator(df_original.copy(), df_MSM_CS, OM_CS, specification_type='OM & MSM correctly specified', fit_bounds=True)"
   ]
  },
  {
   "cell_type": "code",
   "execution_count": 12,
   "metadata": {},
   "outputs": [
    {
     "name": "stdout",
     "output_type": "stream",
     "text": [
      "The Doubly Robust Estimate for the Causal Effect of A on Y is: 1.2236769956032711 with 95% CI (1.2181937402171832 , 1.229160250989359)\n"
     ]
    }
   ],
   "source": [
    "## Doubly Robust Estimator, with the Standardized Outcome Model misspecified\n",
    "DRE_OM_IS_point_estimate = fit_Doubly_Robust_Estimator(df_original.copy(), df_MSM_CS, OM_IS, specification_type='OM incorrectly specified, MSM correctly specified', fit_bounds=True)"
   ]
  },
  {
   "cell_type": "code",
   "execution_count": 13,
   "metadata": {},
   "outputs": [
    {
     "name": "stdout",
     "output_type": "stream",
     "text": [
      "The Doubly Robust Estimate for the Causal Effect of A on Y is: 1.2278114671931366 with 95% CI (1.2237678339601503 , 1.231855100426123)\n"
     ]
    }
   ],
   "source": [
    "## Doubly Robust Estimator, with the Marginal Structural Model misspecified\n",
    "DRE_MSM_IS_point_estimate = fit_Doubly_Robust_Estimator(df_original.copy(), df_MSM_IS, OM_CS, specification_type='OM correctly specified, MSM incorrectly specified', fit_bounds=True)"
   ]
  },
  {
   "cell_type": "code",
   "execution_count": 14,
   "metadata": {},
   "outputs": [
    {
     "name": "stdout",
     "output_type": "stream",
     "text": [
      "The Doubly Robust Estimate for the Causal Effect of A on Y is: 2.1655698807162245 with 95% CI (2.157191073007725 , 2.173948688424724)\n"
     ]
    }
   ],
   "source": [
    "## Doubly Robust Estimator, with both the Standardized Outcome Model & Marginal Structural Model misspecified\n",
    "DRE_IS_point_estimate = fit_Doubly_Robust_Estimator(df_original.copy(), df_MSM_IS, OM_IS, specification_type='OM & MSM incorrectly specified', fit_bounds=True)"
   ]
  }
 ],
 "metadata": {
  "kernelspec": {
   "display_name": "tf_gpu",
   "language": "python",
   "name": "tf_gpu"
  },
  "language_info": {
   "codemirror_mode": {
    "name": "ipython",
    "version": 3
   },
   "file_extension": ".py",
   "mimetype": "text/x-python",
   "name": "python",
   "nbconvert_exporter": "python",
   "pygments_lexer": "ipython3",
   "version": "3.7.4"
  }
 },
 "nbformat": 4,
 "nbformat_minor": 2
}
